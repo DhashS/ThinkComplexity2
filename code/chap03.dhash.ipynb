{
 "cells": [
  {
   "cell_type": "markdown",
   "metadata": {},
   "source": [
    "# Think Bayes: Chapter 3\n",
    "\n",
    "This notebook presents example code and exercise solutions for Think Bayes.\n",
    "\n",
    "Copyright 2016 Allen B. Downey\n",
    "\n",
    "MIT License: https://opensource.org/licenses/MIT"
   ]
  },
  {
   "cell_type": "code",
   "execution_count": 1,
   "metadata": {
    "collapsed": true
   },
   "outputs": [],
   "source": [
    "from __future__ import print_function, division\n",
    "\n",
    "% matplotlib inline\n",
    "\n",
    "import thinkplot\n",
    "from thinkbayes2 import Hist, Pmf, Suite, Cdf"
   ]
  },
  {
   "cell_type": "markdown",
   "metadata": {},
   "source": [
    "## The Dice problem\n",
    "\n",
    "Suppose I have a box of dice that contains a 4-sided die, a 6-sided\n",
    "die, an 8-sided die, a 12-sided die, and a 20-sided die.\n",
    "\n",
    "Suppose I select a die from the box at random, roll it, and get a 6.\n",
    "What is the probability that I rolled each die?\n",
    "\n",
    "The `Dice` class inherits `Update` and provides `Likelihood`"
   ]
  },
  {
   "cell_type": "code",
   "execution_count": 2,
   "metadata": {
    "collapsed": false
   },
   "outputs": [],
   "source": [
    "class Dice(Suite):\n",
    "    def Likelihood(self, data, hypo):\n",
    "        if hypo < data:\n",
    "            return 0\n",
    "        else:\n",
    "            return 1/hypo"
   ]
  },
  {
   "cell_type": "markdown",
   "metadata": {},
   "source": [
    "Here's what the update looks like:"
   ]
  },
  {
   "cell_type": "code",
   "execution_count": 3,
   "metadata": {
    "collapsed": false
   },
   "outputs": [
    {
     "name": "stdout",
     "output_type": "stream",
     "text": [
      "4 0.0\n",
      "6 0.392156862745\n",
      "8 0.294117647059\n",
      "12 0.196078431373\n",
      "20 0.117647058824\n"
     ]
    }
   ],
   "source": [
    "suite = Dice([4, 6, 8, 12, 20])\n",
    "suite.Update(6)\n",
    "suite.Print()"
   ]
  },
  {
   "cell_type": "markdown",
   "metadata": {},
   "source": [
    "And here's what it looks like after more data:"
   ]
  },
  {
   "cell_type": "code",
   "execution_count": 4,
   "metadata": {
    "collapsed": false
   },
   "outputs": [
    {
     "name": "stdout",
     "output_type": "stream",
     "text": [
      "4 0.0\n",
      "6 0.0\n",
      "8 0.943248453672\n",
      "12 0.0552061280613\n",
      "20 0.0015454182665\n"
     ]
    }
   ],
   "source": [
    "for roll in [6, 8, 7, 7, 5, 4]:\n",
    "        suite.Update(roll)\n",
    "        \n",
    "suite.Print()"
   ]
  },
  {
   "cell_type": "markdown",
   "metadata": {},
   "source": [
    "## The train problem\n",
    "\n",
    "The Train problem has the same likelihood as the Dice problem."
   ]
  },
  {
   "cell_type": "code",
   "execution_count": 5,
   "metadata": {
    "collapsed": true
   },
   "outputs": [],
   "source": [
    "class Train(Suite):\n",
    "    def Likelihood(self, data, hypo):\n",
    "        if hypo < data:\n",
    "            return 0\n",
    "        else:\n",
    "            return 1/hypo"
   ]
  },
  {
   "cell_type": "markdown",
   "metadata": {},
   "source": [
    "But there are many more hypotheses"
   ]
  },
  {
   "cell_type": "code",
   "execution_count": 6,
   "metadata": {
    "collapsed": false
   },
   "outputs": [
    {
     "data": {
      "text/plain": [
       "0.0028222671142652746"
      ]
     },
     "execution_count": 6,
     "metadata": {},
     "output_type": "execute_result"
    }
   ],
   "source": [
    "hypos = xrange(1, 1001)\n",
    "suite = Train(hypos)\n",
    "suite.Update(60)"
   ]
  },
  {
   "cell_type": "markdown",
   "metadata": {},
   "source": [
    "Here's what the posterior looks like"
   ]
  },
  {
   "cell_type": "code",
   "execution_count": 7,
   "metadata": {
    "collapsed": false
   },
   "outputs": [
    {
     "data": {
      "image/png": "[encoded data removed]",
      "text/plain": [
       "<matplotlib.figure.Figure at 0x7fa36c3d1d10>"
      ]
     },
     "metadata": {},
     "output_type": "display_data"
    }
   ],
   "source": [
    "thinkplot.Pdf(suite)"
   ]
  },
  {
   "cell_type": "markdown",
   "metadata": {},
   "source": [
    "And here's how we can compute the posterior mean"
   ]
  },
  {
   "cell_type": "code",
   "execution_count": 8,
   "metadata": {
    "collapsed": false
   },
   "outputs": [
    {
     "data": {
      "text/plain": [
       "333.41989326371095"
      ]
     },
     "execution_count": 8,
     "metadata": {},
     "output_type": "execute_result"
    }
   ],
   "source": [
    "def Mean(suite):\n",
    "    total = 0\n",
    "    for hypo, prob in suite.Items():\n",
    "        total += hypo * prob\n",
    "    return total\n",
    "\n",
    "Mean(suite)"
   ]
  },
  {
   "cell_type": "markdown",
   "metadata": {},
   "source": [
    "Or we can just use the method"
   ]
  },
  {
   "cell_type": "code",
   "execution_count": 9,
   "metadata": {
    "collapsed": false
   },
   "outputs": [
    {
     "data": {
      "text/plain": [
       "333.41989326371095"
      ]
     },
     "execution_count": 9,
     "metadata": {},
     "output_type": "execute_result"
    }
   ],
   "source": [
    "suite.Mean()"
   ]
  },
  {
   "cell_type": "markdown",
   "metadata": {},
   "source": [
    "## Sensitivity to the prior\n",
    "\n",
    "Here's a function that solves the train problem for different priors and data"
   ]
  },
  {
   "cell_type": "code",
   "execution_count": 10,
   "metadata": {
    "collapsed": true
   },
   "outputs": [],
   "source": [
    "def MakePosterior(high, dataset, constructor=Train):\n",
    "    \"\"\"Solves the train problem.\n",
    "    \n",
    "    high: int maximum number of trains\n",
    "    dataset: sequence of observed train numbers\n",
    "    constructor: function used to construct the Train object\n",
    "    \n",
    "    returns: Train object representing the posterior suite\n",
    "    \"\"\"\n",
    "    hypos = range(1, high+1)\n",
    "    suite = constructor(hypos)\n",
    "\n",
    "    for data in dataset:\n",
    "        suite.Update(data)\n",
    "\n",
    "    return suite"
   ]
  },
  {
   "cell_type": "markdown",
   "metadata": {},
   "source": [
    "Let's run it with the same dataset and several uniform priors"
   ]
  },
  {
   "cell_type": "code",
   "execution_count": 11,
   "metadata": {
    "collapsed": false
   },
   "outputs": [
    {
     "name": "stdout",
     "output_type": "stream",
     "text": [
      "500 151.849587959\n",
      "1000 164.305586423\n",
      "2000 171.338181092\n"
     ]
    }
   ],
   "source": [
    "dataset = [30, 60, 90]\n",
    "\n",
    "for high in [500, 1000, 2000]:\n",
    "    suite = MakePosterior(high, dataset)\n",
    "    print(high, suite.Mean())"
   ]
  },
  {
   "cell_type": "markdown",
   "metadata": {},
   "source": [
    "The results are quite sensitive to the prior, even with several observations."
   ]
  },
  {
   "cell_type": "markdown",
   "metadata": {},
   "source": [
    "## Power law prior\n",
    "\n",
    "Now let's try it with a power law prior."
   ]
  },
  {
   "cell_type": "code",
   "execution_count": 12,
   "metadata": {
    "collapsed": true
   },
   "outputs": [],
   "source": [
    "class Train2(Train):\n",
    "\n",
    "    def __init__(self, hypos, alpha=1.0):\n",
    "        Pmf.__init__(self)\n",
    "        for hypo in hypos:\n",
    "            self[hypo] = hypo**(-alpha)\n",
    "        self.Normalize()"
   ]
  },
  {
   "cell_type": "markdown",
   "metadata": {},
   "source": [
    "Here's what a power law prior looks like, compared to a uniform prior"
   ]
  },
  {
   "cell_type": "code",
   "execution_count": 13,
   "metadata": {
    "collapsed": false
   },
   "outputs": [
    {
     "data": {
      "image/png": "[encoded data removed]",
      "text/plain": [
       "<matplotlib.figure.Figure at 0x7fa36c0f7210>"
      ]
     },
     "metadata": {},
     "output_type": "display_data"
    }
   ],
   "source": [
    "high = 100\n",
    "hypos = range(1, high+1)\n",
    "suite1 = Train(hypos)\n",
    "suite2 = Train2(hypos)\n",
    "thinkplot.Pdf(suite1)\n",
    "thinkplot.Pdf(suite2)\n"
   ]
  },
  {
   "cell_type": "markdown",
   "metadata": {},
   "source": [
    "Now let's see what the posteriors look like after observing one train."
   ]
  },
  {
   "cell_type": "code",
   "execution_count": 14,
   "metadata": {
    "collapsed": false
   },
   "outputs": [
    {
     "data": {
      "image/png": "[encoded data removed]",
      "text/plain": [
       "<matplotlib.figure.Figure at 0x7fa32d1e7310>"
      ]
     },
     "metadata": {},
     "output_type": "display_data"
    }
   ],
   "source": [
    "dataset = [60]\n",
    "high = 1000\n",
    "\n",
    "thinkplot.PrePlot(num=2)\n",
    "\n",
    "constructors = [Train, Train2]\n",
    "labels = ['uniform', 'power law']\n",
    "\n",
    "for constructor, label in zip(constructors, labels):\n",
    "    suite = MakePosterior(high, dataset, constructor)\n",
    "    suite.label = label\n",
    "    thinkplot.Pmf(suite)\n",
    "\n",
    "thinkplot.Config(xlabel='Number of trains',\n",
    "                 ylabel='Probability')"
   ]
  },
  {
   "cell_type": "markdown",
   "metadata": {},
   "source": [
    "The power law gives less prior probability to high values, which yields lower posterior means, and less sensitivity to the upper bound."
   ]
  },
  {
   "cell_type": "code",
   "execution_count": 15,
   "metadata": {
    "collapsed": false
   },
   "outputs": [
    {
     "name": "stdout",
     "output_type": "stream",
     "text": [
      "500 130.708469863\n",
      "1000 133.275231375\n",
      "2000 133.997463081\n"
     ]
    }
   ],
   "source": [
    "dataset = [30, 60, 90]\n",
    "\n",
    "for high in [500, 1000, 2000]:\n",
    "    suite = MakePosterior(high, dataset, Train2)\n",
    "    print(high, suite.Mean())"
   ]
  },
  {
   "cell_type": "markdown",
   "metadata": {},
   "source": [
    "## Credible intervals\n",
    "\n",
    "To compute credible intervals, we can use the `Percentile` method on the posterior."
   ]
  },
  {
   "cell_type": "code",
   "execution_count": 16,
   "metadata": {
    "collapsed": false
   },
   "outputs": [
    {
     "data": {
      "text/plain": [
       "(69, 869)"
      ]
     },
     "execution_count": 16,
     "metadata": {},
     "output_type": "execute_result"
    }
   ],
   "source": [
    "hypos = xrange(1, 1001)\n",
    "suite = Train(hypos)\n",
    "suite.Update(60)\n",
    "\n",
    "suite.Percentile(5), suite.Percentile(95)"
   ]
  },
  {
   "cell_type": "markdown",
   "metadata": {},
   "source": [
    "If you have to compute more than a few percentiles, it is more efficient to compute a CDF.\n",
    "\n",
    "Also, a CDF can be a better way to visualize distributions."
   ]
  },
  {
   "cell_type": "code",
   "execution_count": 17,
   "metadata": {
    "collapsed": false
   },
   "outputs": [
    {
     "data": {
      "image/png": "[encoded data removed]",
      "text/plain": [
       "<matplotlib.figure.Figure at 0x7fa36c0da990>"
      ]
     },
     "metadata": {},
     "output_type": "display_data"
    }
   ],
   "source": [
    "cdf = Cdf(suite)\n",
    "thinkplot.Cdf(cdf)\n",
    "thinkplot.Config(xlabel='Number of trains',\n",
    "                 ylabel='Cumulative Probability',\n",
    "                 legend=False)"
   ]
  },
  {
   "cell_type": "markdown",
   "metadata": {},
   "source": [
    "`Cdf` also provides `Percentile`"
   ]
  },
  {
   "cell_type": "code",
   "execution_count": 18,
   "metadata": {
    "collapsed": false
   },
   "outputs": [
    {
     "data": {
      "text/plain": [
       "(69, 869)"
      ]
     },
     "execution_count": 18,
     "metadata": {},
     "output_type": "execute_result"
    }
   ],
   "source": [
    "cdf.Percentile(5), cdf.Percentile(95)"
   ]
  },
  {
   "cell_type": "markdown",
   "metadata": {},
   "source": [
    "## Exercises"
   ]
  },
  {
   "cell_type": "markdown",
   "metadata": {},
   "source": [
    "**Exercise:** To write a likelihood function for the locomotive problem, we had\n",
    "to answer this question:  \"If the railroad has `N` locomotives, what\n",
    "is the probability that we see number 60?\"\n",
    "\n",
    "The answer depends on what sampling process we use when we observe the\n",
    "locomotive.  In this chapter, I resolved the ambiguity by specifying\n",
    "that there is only one train-operating company (or only one that we\n",
    "care about).\n",
    "\n",
    "But suppose instead that there are many companies with different\n",
    "numbers of trains.  And suppose that you are equally likely to see any\n",
    "train operated by any company.\n",
    "In that case, the likelihood function is different because you\n",
    "are more likely to see a train operated by a large company.\n",
    "\n",
    "As an exercise, implement the likelihood function for this variation\n",
    "of the locomotive problem, and compare the results."
   ]
  },
  {
   "cell_type": "code",
   "execution_count": 110,
   "metadata": {
    "collapsed": true
   },
   "outputs": [],
   "source": [
    "class Locomotives(Suite):\n",
    "    def __init__(self, N_loco_lst):\n",
    "        #Let's assume a uniform prior\n",
    "        self.locomotive_probs = []\n",
    "        for N in N_loco_lst:\n",
    "            S = Suite(range(N))\n",
    "            S.Likelihood = self.TrainLikelihood\n",
    "            self.locomotive_probs.append(S)\n",
    "            \n",
    "        Suite.__init__(self, range(len(N_loco_lst)))\n",
    "        \n",
    "        \n",
    "    def Likelihood(self, data, hypo):\n",
    "        num_loco_seen = data\n",
    "        N_company = hypo\n",
    "        company = self.locomotive_probs[N_company]\n",
    "\n",
    "        try:\n",
    "            company.Update(num_loco_seen)\n",
    "        except ValueError:\n",
    "            return 0\n",
    "        \n",
    "        company.Normalize()\n",
    "        \n",
    "        self.locomotive_probs[N_company] = company\n",
    "        return company.Mean()\n",
    "        \n",
    "    def TrainLikelihood(self, data, hypo):\n",
    "        N_train = data\n",
    "        \n",
    "        if N_train > hypo:\n",
    "            return 0\n",
    "        else:\n",
    "            return 1/hypo\n",
    "        "
   ]
  },
  {
   "cell_type": "code",
   "execution_count": 111,
   "metadata": {},
   "outputs": [
    {
     "data": {
      "text/plain": [
       "[(0, 0.40201135442291985), (1, 0.5979886455770801), (2, 0.0)]"
      ]
     },
     "execution_count": 111,
     "metadata": {},
     "output_type": "execute_result"
    }
   ],
   "source": [
    "L = Locomotives([100, 200, 30])\n",
    "L.Update(60)\n",
    "L.Items()"
   ]
  },
  {
   "cell_type": "markdown",
   "metadata": {},
   "source": [
    "**Exercise:** Suppose I capture and tag 10 rock hyraxes.  Some time later, I capture another 10 hyraxes and find that two of them are already tagged.  How many hyraxes are there in this environment?\n",
    "\n",
    "As always with problems like this, we have to make some modeling assumptions. \n",
    "\n",
    "1) For simplicity, you can assume that the environment is reasonably isolated, so the number of hyraxes does not change between observations.\n",
    "\n",
    "2) And you can assume that each hyrax is equally likely to be captured during each phase of the experiment, regardless of whether it has been tagged.  In reality, it is possible that tagged animals would avoid traps in the future, or possible that the same behavior that got them caught the first time makes them more likely to be caught again.  But let's start simple.\n",
    "\n",
    "I suggest the following notation:\n",
    "\n",
    "*  `N`: total population of hyraxes \n",
    "*  `K`: number of hyraxes tagged in the first round \n",
    "*  `n`: number of hyraxes caught in the second round\n",
    "*  `k`: number of hyraxes in the second round that had been tagged\n",
    "\n",
    "So `N` is the hypothesis and `(K, n, k)` make up the data.  The probability of the data, given the hypothesis, is the probability of finding `k` tagged hyraxes out of `n` if (in the population) `K` out of `N` are tagged. \n",
    "\n",
    "If you are familiar with the hypergeometric distribution, you can use the hypergeometric PMF to compute the likelihood function.  Otherwise, you can figure it out using combinatorics."
   ]
  },
  {
   "cell_type": "code",
   "execution_count": 20,
   "metadata": {
    "collapsed": true
   },
   "outputs": [],
   "source": [
    "# Solution goes here"
   ]
  },
  {
   "cell_type": "code",
   "execution_count": 21,
   "metadata": {
    "collapsed": false
   },
   "outputs": [],
   "source": [
    "# Solution goes here"
   ]
  },
  {
   "cell_type": "code",
   "execution_count": 22,
   "metadata": {
    "collapsed": false
   },
   "outputs": [],
   "source": [
    "# Solution goes here"
   ]
  },
  {
   "cell_type": "code",
   "execution_count": 23,
   "metadata": {
    "collapsed": false
   },
   "outputs": [],
   "source": [
    "# Solution goes here"
   ]
  },
  {
   "cell_type": "code",
   "execution_count": 24,
   "metadata": {
    "collapsed": false
   },
   "outputs": [],
   "source": [
    "# Solution goes here"
   ]
  },
  {
   "cell_type": "code",
   "execution_count": 25,
   "metadata": {
    "collapsed": false
   },
   "outputs": [],
   "source": [
    "# Solution goes here"
   ]
  },
  {
   "cell_type": "code",
   "execution_count": 26,
   "metadata": {
    "collapsed": false
   },
   "outputs": [],
   "source": [
    "# Solution goes here"
   ]
  },
  {
   "cell_type": "code",
   "execution_count": null,
   "metadata": {
    "collapsed": true
   },
   "outputs": [],
   "source": []
  }
 ],
 "metadata": {
  "kernelspec": {
   "display_name": "Python 2",
   "language": "python",
   "name": "python2"
  },
  "language_info": {
   "codemirror_mode": {
    "name": "ipython",
    "version": 2
   },
   "file_extension": ".py",
   "mimetype": "text/x-python",
   "name": "python",
   "nbconvert_exporter": "python",
   "pygments_lexer": "ipython2",
   "version": "2.7.12"
  }
 },
 "nbformat": 4,
 "nbformat_minor": 0
}
