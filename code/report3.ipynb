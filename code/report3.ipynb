{
 "cells": [
  {
   "cell_type": "markdown",
   "metadata": {},
   "source": [
    "You have three factories producing microchips. They've been built at different times, so their technology differs. \n",
    "The chips can be seperated into 10 bins as to how fast they can be run.\n",
    "\n",
    "\n",
    "* Fab 1 produces $2\\times10^2$ chips a day with the quality accuratley modelled by a Beta $(\\alpha = 10, \\beta = 10)$ distribution\n",
    "* Fab 2 produces $2.1\\times10^2$ chips a day with the quality accuratley modelled by a Beta $(\\alpha = 13, \\beta = 4)$ distribution\n",
    "* Fab 3 produces $1.2\\times10^2$ chips a day with the quality accuratley modelled by a Beta $(\\alpha = 2, \\beta = 4)$ distribution\n",
    "\n",
    "I just recieved a new batch of 10 chips from a factory. What factory did I recieve them from if their qualities are $\\texttt{[2, 3, 5, 7, 3, 4, 6, 3, 9, 2]}$"
   ]
  },
  {
   "cell_type": "code",
   "execution_count": 84,
   "metadata": {},
   "outputs": [],
   "source": [
    "%matplotlib inline\n",
    "\n",
    "import thinkplot\n",
    "import seaborn as sns\n",
    "\n",
    "from thinkbayes2 import Beta, Suite, Pmf"
   ]
  },
  {
   "cell_type": "code",
   "execution_count": 85,
   "metadata": {},
   "outputs": [],
   "source": [
    "class ChipFab(Suite):\n",
    "    fab1 = Beta(10, 10)\n",
    "    fab2 = Beta(13, 4)\n",
    "    fab3 = Beta(2, 4)\n",
    "    fabs = [fab1, fab2, fab3]\n",
    "    \n",
    "    def Likelihood(self, data, hypo):\n",
    "        chip_bin = data/10\n",
    "        fab_num = hypo\n",
    "        \n",
    "        prob_bin = lambda x: x.MakePmf()\n",
    "        prob_fab = prob_bin(self.fabs[fab_num])[chip_bin]\n",
    "\n",
    "        return prob_fab\n",
    "        "
   ]
  },
  {
   "cell_type": "code",
   "execution_count": 86,
   "metadata": {},
   "outputs": [
    {
     "name": "stdout",
     "output_type": "stream",
     "text": [
      "0 3.5376845466325586e-05\n",
      "1 7.668511970753825e-20\n",
      "2 0.9999646231545337\n"
     ]
    }
   ],
   "source": [
    "C = ChipFab(Pmf({0:2*10**2, 1:2.1*10**2, 2:1.2*10**2}))\n",
    "C.UpdateSet([2, 3, 5, 7, 3, 4, 6, 3, 9, 2])\n",
    "#C.UpdateSet([5, 5, 5, 5])\n",
    "C.Print()"
   ]
  },
  {
   "cell_type": "code",
   "execution_count": null,
   "metadata": {},
   "outputs": [],
   "source": []
  }
 ],
 "metadata": {
  "kernelspec": {
   "display_name": "Python 3",
   "language": "python",
   "name": "python3"
  },
  "language_info": {
   "codemirror_mode": {
    "name": "ipython",
    "version": 3
   },
   "file_extension": ".py",
   "mimetype": "text/x-python",
   "name": "python",
   "nbconvert_exporter": "python",
   "pygments_lexer": "ipython3",
   "version": "3.5.2"
  }
 },
 "nbformat": 4,
 "nbformat_minor": 1
}
